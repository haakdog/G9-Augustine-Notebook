{
 "cells": [
  {
   "cell_type": "markdown",
   "metadata": {},
   "source": [
    "# Question 2\n",
    "Given $\\cos{\\theta} = \\frac{4}{5}$, find $\\sin{\\theta}$\n",
    "\n",
    "## Solution\n",
    "\n",
    "Since $\\cos{\\theta} = \\frac{adjacent}{hypotenuse}$ and $\\cos{\\theta} = \\frac{4}{5}$.\\\n",
    "Therefore, if $adjacent$ is $4$ then $hypotenuse$ is $5$. \n",
    "\n",
    "Using pythagorean's theorem:\\\n",
    "$adjacent^2$ + $opposite^2$ = $hypotenuse^2$\n",
    "\n",
    "Filling in $adjacent$ and $hypotenuse$\\\n",
    "$4^2 + opposite^2 = 5^2$\n",
    "\n",
    "Subtracting $4^2$ from both sides\\\n",
    "$4^2 + opposite^2 - 4^2 = 5^2 - 4^2$\\\n",
    "$opposite^2 = 5^2 - 4^2$\\\n",
    "$opposite^2 = 25 - 16$\\\n",
    "$opposite^2 = 9$\n",
    "\n",
    "Taking the square root of both sides\\\n",
    "$opposite = \\sqrt{9} = 3$\n",
    "\n",
    "Lastly, $\\sin{\\theta} = \\frac{opposite}{hypotenuse}$\\\n",
    "Therefore $\\sin{\\theta} = \\frac{3}{5}$"
   ]
  }
 ],
 "metadata": {
  "language_info": {
   "name": "python"
  },
  "orig_nbformat": 4
 },
 "nbformat": 4,
 "nbformat_minor": 2
}
